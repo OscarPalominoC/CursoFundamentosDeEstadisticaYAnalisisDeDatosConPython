{
 "cells": [
  {
   "cell_type": "code",
   "execution_count": 1,
   "metadata": {},
   "outputs": [],
   "source": [
    "import numpy as np\n",
    "import datetime\n",
    "from datetime import date"
   ]
  },
  {
   "cell_type": "code",
   "execution_count": 2,
   "metadata": {},
   "outputs": [],
   "source": [
    "# Ejemplo clásico de lanzamiento de una moneda\n",
    "\n",
    "universo = ['cara', 'sello']\n"
   ]
  },
  {
   "cell_type": "code",
   "execution_count": 3,
   "metadata": {},
   "outputs": [],
   "source": [
    "# Número de resultados favorables / número de resultados totales\n",
    "p_cara = 1/2"
   ]
  },
  {
   "cell_type": "code",
   "execution_count": 4,
   "metadata": {},
   "outputs": [],
   "source": [
    "from scipy.stats import bernoulli"
   ]
  },
  {
   "cell_type": "code",
   "execution_count": 5,
   "metadata": {},
   "outputs": [
    {
     "data": {
      "text/plain": [
       "1"
      ]
     },
     "execution_count": 5,
     "metadata": {},
     "output_type": "execute_result"
    }
   ],
   "source": [
    "# rvs => Random Variable Sample\n",
    "bernoulli.rvs(p=p_cara)"
   ]
  },
  {
   "cell_type": "code",
   "execution_count": 6,
   "metadata": {
    "scrolled": true
   },
   "outputs": [
    {
     "data": {
      "text/plain": [
       "'sello'"
      ]
     },
     "execution_count": 6,
     "metadata": {},
     "output_type": "execute_result"
    }
   ],
   "source": [
    "universo[bernoulli.rvs(p=p_cara)]"
   ]
  },
  {
   "cell_type": "code",
   "execution_count": 7,
   "metadata": {},
   "outputs": [
    {
     "data": {
      "text/plain": [
       "array([1, 1, 1, 0, 1, 0, 0, 1, 0, 1])"
      ]
     },
     "execution_count": 7,
     "metadata": {},
     "output_type": "execute_result"
    }
   ],
   "source": [
    "# Demostración de la probabilidad\n",
    "bernoulli.rvs(p=p_cara, size=10)"
   ]
  },
  {
   "cell_type": "code",
   "execution_count": 8,
   "metadata": {},
   "outputs": [
    {
     "data": {
      "text/plain": [
       "6"
      ]
     },
     "execution_count": 8,
     "metadata": {},
     "output_type": "execute_result"
    }
   ],
   "source": [
    "sum(bernoulli.rvs(p=p_cara, size=10))"
   ]
  },
  {
   "cell_type": "code",
   "execution_count": 9,
   "metadata": {},
   "outputs": [],
   "source": [
    "from scipy.stats import binom"
   ]
  },
  {
   "cell_type": "code",
   "execution_count": 11,
   "metadata": {
    "scrolled": true
   },
   "outputs": [
    {
     "data": {
      "text/plain": [
       "array([ 4,  3, 10,  3,  1,  3,  2,  3,  6,  1,  7,  5,  7,  4,  4,  6,  8,\n",
       "        5,  4,  7,  4,  6,  5,  2,  2,  5,  5,  5,  7,  5,  4,  5,  2,  6,\n",
       "        6,  3,  5,  5,  5,  4,  4,  6,  6,  3,  5,  6,  3,  5,  5,  7,  7,\n",
       "        6,  5,  3,  9,  4,  8,  6,  2,  5,  2,  6,  4,  4,  5,  7,  4,  4,\n",
       "        7,  6,  5,  5,  3,  5,  4,  5,  3,  4,  3,  6,  3,  6,  6,  6,  7,\n",
       "        4,  7,  4,  6,  5,  5,  6,  7,  5,  2,  2,  5,  5,  4,  6])"
      ]
     },
     "execution_count": 11,
     "metadata": {},
     "output_type": "execute_result"
    }
   ],
   "source": [
    "# Esto nos permite identificar la distribución de probabilidad. Algunos valores tienen más probabilidad de darse.\n",
    "binom.rvs(p = p_cara, n = 10, size = 100)"
   ]
  },
  {
   "cell_type": "code",
   "execution_count": 13,
   "metadata": {},
   "outputs": [
    {
     "data": {
      "text/plain": [
       "4     0.29\n",
       "5     0.24\n",
       "6     0.17\n",
       "3     0.12\n",
       "7     0.06\n",
       "8     0.04\n",
       "2     0.04\n",
       "9     0.03\n",
       "10    0.01\n",
       "dtype: float64"
      ]
     },
     "execution_count": 13,
     "metadata": {},
     "output_type": "execute_result"
    }
   ],
   "source": [
    "# Importamos pandas para calcular esta serie como un data frame.\n",
    "# Value counts nos devuelve la frecuencia que más se repite. Al dividir sobre /100 nos devuelve una probabilidad de los casos totales evaluados.\n",
    "import pandas as pd\n",
    "pd.Series(binom.rvs(p = p_cara, n = 10, size = 100)).value_counts()/100"
   ]
  }
 ],
 "metadata": {
  "kernelspec": {
   "display_name": "Python 3",
   "language": "python",
   "name": "python3"
  },
  "language_info": {
   "codemirror_mode": {
    "name": "ipython",
    "version": 3
   },
   "file_extension": ".py",
   "mimetype": "text/x-python",
   "name": "python",
   "nbconvert_exporter": "python",
   "pygments_lexer": "ipython3",
   "version": "3.7.6"
  }
 },
 "nbformat": 4,
 "nbformat_minor": 4
}
