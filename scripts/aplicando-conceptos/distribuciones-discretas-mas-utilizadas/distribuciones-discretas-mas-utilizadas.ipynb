{
 "cells": [
  {
   "cell_type": "code",
   "execution_count": 1,
   "metadata": {},
   "outputs": [],
   "source": [
    "import matplotlib.pyplot as plt\n",
    "%matplotlib inline"
   ]
  },
  {
   "cell_type": "markdown",
   "metadata": {},
   "source": [
    "# Distribución de Bernoulli"
   ]
  },
  {
   "cell_type": "code",
   "execution_count": 2,
   "metadata": {},
   "outputs": [],
   "source": [
    "from scipy.stats import bernoulli\n",
    "p = 0.3\n",
    "data = bernoulli.rvs(p, size=100)"
   ]
  },
  {
   "cell_type": "code",
   "execution_count": 3,
   "metadata": {},
   "outputs": [
    {
     "data": {
      "text/plain": [
       "100"
      ]
     },
     "execution_count": 3,
     "metadata": {},
     "output_type": "execute_result"
    }
   ],
   "source": [
    "len(data)"
   ]
  },
  {
   "cell_type": "code",
   "execution_count": 4,
   "metadata": {},
   "outputs": [
    {
     "data": {
      "text/plain": [
       "(array(0.3), array(0.21), array(0.87287156), array(-1.23809524))"
      ]
     },
     "execution_count": 4,
     "metadata": {},
     "output_type": "execute_result"
    }
   ],
   "source": [
    "mean, var, skew, kurt = bernoulli.stats(p, moments='mvsk')\n",
    "mean, var, skew, kurt"
   ]
  },
  {
   "cell_type": "code",
   "execution_count": 9,
   "metadata": {
    "scrolled": true
   },
   "outputs": [
    {
     "data": {
      "text/plain": [
       "<matplotlib.lines.Line2D at 0x7ff4d8c68850>"
      ]
     },
     "execution_count": 9,
     "metadata": {},
     "output_type": "execute_result"
    },
    {
     "data": {
      "image/png": "[encoded data removed]",
      "text/plain": [
       "<Figure size 432x288 with 1 Axes>"
      ]
     },
     "metadata": {
      "needs_background": "light"
     },
     "output_type": "display_data"
    }
   ],
   "source": [
    "import seaborn as sns\n",
    "axis = sns.distplot(data, bins = 30, kde = False, color='blue')\n",
    "# Definimos los ejes\n",
    "axis.set(xlabel='Distribución de Bernoulli', ylabel='Frecuencia')\n",
    "\n",
    "# Mostramos las medidas de tendencia central\n",
    "axis.axvline(x=mean, linestyle='--', label='Media')"
   ]
  },
  {
   "cell_type": "markdown",
   "metadata": {},
   "source": [
    "# Distribución Binomial"
   ]
  },
  {
   "cell_type": "code",
   "execution_count": 10,
   "metadata": {
    "scrolled": true
   },
   "outputs": [
    {
     "data": {
      "text/plain": [
       "array([0, 3, 4, 6, 2, 2, 6, 4, 2, 2, 1, 1, 5, 3, 2, 3, 4, 6, 4, 3, 1, 4,\n",
       "       1, 3, 0, 2, 5, 3, 5, 2, 2, 2, 2, 2, 3, 4, 7, 1, 3, 5, 3, 3, 2, 3,\n",
       "       3, 1, 3, 3, 1, 3, 3, 3, 4, 2, 6, 1, 3, 3, 1, 5, 4, 4, 2, 3, 5, 5,\n",
       "       6, 4, 5, 2, 3, 3, 3, 5, 4, 2, 2, 2, 3, 4, 3, 2, 4, 4, 2, 2, 3, 3,\n",
       "       7, 3, 5, 3, 1, 2, 3, 0, 0, 1, 3, 3])"
      ]
     },
     "execution_count": 10,
     "metadata": {},
     "output_type": "execute_result"
    }
   ],
   "source": [
    "from scipy.stats import binom\n",
    "p = 0.3\n",
    "n = 10\n",
    "data = binom.rvs(p=p, n=n, size=100)\n",
    "data"
   ]
  },
  {
   "cell_type": "code",
   "execution_count": 12,
   "metadata": {
    "scrolled": true
   },
   "outputs": [
    {
     "data": {
      "text/plain": [
       "(array(3.), array(2.1), array(0.27602622), array(-0.12380952))"
      ]
     },
     "execution_count": 12,
     "metadata": {},
     "output_type": "execute_result"
    }
   ],
   "source": [
    "mean, var, skew, kurt = binom.stats(p=p,n=n, moments='mvsk')\n",
    "mean, var, skew, kurt"
   ]
  },
  {
   "cell_type": "code",
   "execution_count": 13,
   "metadata": {
    "scrolled": true
   },
   "outputs": [
    {
     "data": {
      "text/plain": [
       "<matplotlib.lines.Line2D at 0x7ff4d8b9aa50>"
      ]
     },
     "execution_count": 13,
     "metadata": {},
     "output_type": "execute_result"
    },
    {
     "data": {
      "image/png": "[encoded data removed]",
      "text/plain": [
       "<Figure size 432x288 with 1 Axes>"
      ]
     },
     "metadata": {
      "needs_background": "light"
     },
     "output_type": "display_data"
    }
   ],
   "source": [
    "import seaborn as sns\n",
    "axis = sns.distplot(data, bins = 30, kde = False, color='blue')\n",
    "# Definimos los ejes\n",
    "axis.set(xlabel='Distribución Binomial', ylabel='Frecuencia')\n",
    "\n",
    "# Mostramos las medidas de tendencia central\n",
    "axis.axvline(x=mean, linestyle='--', label='Media')"
   ]
  },
  {
   "cell_type": "markdown",
   "metadata": {},
   "source": [
    "# Distribución binomial Negativa"
   ]
  },
  {
   "cell_type": "code",
   "execution_count": 17,
   "metadata": {
    "scrolled": true
   },
   "outputs": [
    {
     "data": {
      "text/plain": [
       "array([ 3,  0,  1,  2,  1,  0,  1,  0,  1,  2,  2,  1,  0,  8,  1,  2,  8,\n",
       "        1,  2,  1,  4,  3,  2,  0,  4,  5,  2,  0,  0,  1,  3,  0,  0,  1,\n",
       "        8,  0,  7,  3,  1,  3,  6,  6,  3,  0,  0,  2,  3,  0,  0,  1,  3,\n",
       "        2,  0,  2,  0,  0,  0,  0,  0,  6,  1,  0,  0,  7,  0,  0,  3,  1,\n",
       "        9,  2, 15, 10,  3,  4,  0,  1,  0,  0,  0,  1,  4,  1,  3,  1,  5,\n",
       "        2,  6,  2,  1,  4,  0,  4,  0,  0,  0,  0,  3,  2,  7,  0])"
      ]
     },
     "execution_count": 17,
     "metadata": {},
     "output_type": "execute_result"
    }
   ],
   "source": [
    "from scipy.stats import nbinom\n",
    "p = 0.3\n",
    "n = 1\n",
    "data = nbinom.rvs(p=p, n=n, size=100)\n",
    "data"
   ]
  },
  {
   "cell_type": "code",
   "execution_count": 18,
   "metadata": {
    "scrolled": true
   },
   "outputs": [
    {
     "data": {
      "text/plain": [
       "(array(2.33333333), array(7.77777778), array(2.03188864), array(6.12857143))"
      ]
     },
     "execution_count": 18,
     "metadata": {},
     "output_type": "execute_result"
    }
   ],
   "source": [
    "mean, var, skew, kurt = nbinom.stats(p=p,n=n, moments='mvsk')\n",
    "mean, var, skew, kurt"
   ]
  },
  {
   "cell_type": "code",
   "execution_count": 19,
   "metadata": {
    "scrolled": true
   },
   "outputs": [
    {
     "data": {
      "text/plain": [
       "<matplotlib.lines.Line2D at 0x7ff4d89bab10>"
      ]
     },
     "execution_count": 19,
     "metadata": {},
     "output_type": "execute_result"
    },
    {
     "data": {
      "image/png": "[encoded data removed]",
      "text/plain": [
       "<Figure size 432x288 with 1 Axes>"
      ]
     },
     "metadata": {
      "needs_background": "light"
     },
     "output_type": "display_data"
    }
   ],
   "source": [
    "import seaborn as sns\n",
    "axis = sns.distplot(data, bins = 30, kde = False, color='blue')\n",
    "# Definimos los ejes\n",
    "axis.set(xlabel='Distribución Binomial Negativa', ylabel='Frecuencia')\n",
    "\n",
    "# Mostramos las medidas de tendencia central\n",
    "axis.axvline(x=mean, linestyle='--', label='Media')"
   ]
  },
  {
   "cell_type": "code",
   "execution_count": 32,
   "metadata": {
    "scrolled": false
   },
   "outputs": [
    {
     "data": {
      "text/plain": [
       "array([38, 56, 62, 27, 20, 18, 31, 26, 11, 15, 37, 17, 20, 16, 23, 18, 30,\n",
       "       28, 13, 15, 31, 39, 16, 42, 25, 25, 21, 22, 21, 21, 35, 33, 36, 16,\n",
       "       16, 21, 22, 22, 29, 20,  7, 24, 45, 22, 20, 18, 11, 11, 26, 35, 27,\n",
       "       17, 11, 26, 36, 33, 28, 18, 39, 20, 23, 24, 23, 40, 21, 26, 26, 21,\n",
       "       17, 22, 12, 24, 20, 34, 24, 34,  8, 36, 23, 27, 12, 29, 44, 27, 18,\n",
       "       22, 14, 23, 11, 14, 40, 47, 30, 17, 30, 27, 20, 18, 18, 25])"
      ]
     },
     "execution_count": 32,
     "metadata": {},
     "output_type": "execute_result"
    }
   ],
   "source": [
    "from scipy.stats import nbinom\n",
    "p = 0.3\n",
    "n = 10\n",
    "data = nbinom.rvs(p=p, n=n, size=100)\n",
    "data"
   ]
  },
  {
   "cell_type": "code",
   "execution_count": 33,
   "metadata": {
    "scrolled": true
   },
   "outputs": [
    {
     "data": {
      "text/plain": [
       "(array(23.33333333), array(77.77777778), array(0.6425396), array(0.61285714))"
      ]
     },
     "execution_count": 33,
     "metadata": {},
     "output_type": "execute_result"
    }
   ],
   "source": [
    "mean, var, skew, kurt = nbinom.stats(p=p,n=n, moments='mvsk')\n",
    "mean, var, skew, kurt"
   ]
  },
  {
   "cell_type": "code",
   "execution_count": 34,
   "metadata": {
    "scrolled": true
   },
   "outputs": [
    {
     "data": {
      "text/plain": [
       "<matplotlib.lines.Line2D at 0x7ff4d870a090>"
      ]
     },
     "execution_count": 34,
     "metadata": {},
     "output_type": "execute_result"
    },
    {
     "data": {
      "image/png": "[encoded data removed]",
      "text/plain": [
       "<Figure size 432x288 with 1 Axes>"
      ]
     },
     "metadata": {
      "needs_background": "light"
     },
     "output_type": "display_data"
    }
   ],
   "source": [
    "import seaborn as sns\n",
    "axis = sns.distplot(data, bins = 30, kde = False, color='blue')\n",
    "# Definimos los ejes\n",
    "axis.set(xlabel='Distribución Binomial Negativa', ylabel='Frecuencia')\n",
    "\n",
    "# Mostramos las medidas de tendencia central\n",
    "axis.axvline(x=mean, linestyle='--', label='Media')"
   ]
  },
  {
   "cell_type": "markdown",
   "metadata": {},
   "source": [
    "# Distribución de Poisson"
   ]
  },
  {
   "cell_type": "code",
   "execution_count": 39,
   "metadata": {
    "scrolled": true
   },
   "outputs": [
    {
     "data": {
      "text/plain": [
       "array([318, 296, 293, 335, 301, 312, 299, 337, 277, 290, 261, 287, 322,\n",
       "       270, 283, 270, 303, 287, 311, 295, 306, 286, 292, 309, 301, 339,\n",
       "       257, 331, 299, 291, 317, 271, 300, 286, 267, 304, 304, 275, 298,\n",
       "       296, 289, 257, 290, 292, 304, 293, 300, 308, 315, 265, 319, 317,\n",
       "       305, 289, 301, 306, 298, 289, 286, 292, 270, 300, 268, 315, 285,\n",
       "       289, 318, 321, 269, 321, 318, 274, 286, 280, 300, 292, 286, 292,\n",
       "       332, 312, 306, 281, 270, 273, 305, 314, 301, 290, 267, 284, 305,\n",
       "       302, 311, 304, 316, 279, 312, 296, 313, 292])"
      ]
     },
     "execution_count": 39,
     "metadata": {},
     "output_type": "execute_result"
    }
   ],
   "source": [
    "from scipy.stats import poisson\n",
    "lambda_p = 300\n",
    "data = poisson.rvs(mu=lambda_p, size=100)\n",
    "data"
   ]
  },
  {
   "cell_type": "code",
   "execution_count": 40,
   "metadata": {
    "scrolled": true
   },
   "outputs": [
    {
     "data": {
      "text/plain": [
       "(array(300.), array(300.), array(0.05773503), array(0.00333333))"
      ]
     },
     "execution_count": 40,
     "metadata": {},
     "output_type": "execute_result"
    }
   ],
   "source": [
    "mean, var, skew, kurt = poisson.stats(mu=lambda_p, moments='mvsk')\n",
    "mean, var, skew, kurt"
   ]
  },
  {
   "cell_type": "code",
   "execution_count": 42,
   "metadata": {
    "scrolled": false
   },
   "outputs": [
    {
     "data": {
      "text/plain": [
       "<matplotlib.lines.Line2D at 0x7ff4d864f510>"
      ]
     },
     "execution_count": 42,
     "metadata": {},
     "output_type": "execute_result"
    },
    {
     "data": {
      "image/png": "[encoded data removed]",
      "text/plain": [
       "<Figure size 432x288 with 1 Axes>"
      ]
     },
     "metadata": {
      "needs_background": "light"
     },
     "output_type": "display_data"
    }
   ],
   "source": [
    "import seaborn as sns\n",
    "axis = sns.distplot(data, bins = 30, kde = False, color='blue')\n",
    "# Definimos los ejes\n",
    "axis.set(xlabel='Distribución de Poisson', ylabel='Frecuencia')\n",
    "\n",
    "# Mostramos las medidas de tendencia central\n",
    "axis.axvline(x=mean, linestyle='--', label='Media')"
   ]
  }
 ],
 "metadata": {
  "kernelspec": {
   "display_name": "Python 3",
   "language": "python",
   "name": "python3"
  },
  "language_info": {
   "codemirror_mode": {
    "name": "ipython",
    "version": 3
   },
   "file_extension": ".py",
   "mimetype": "text/x-python",
   "name": "python",
   "nbconvert_exporter": "python",
   "pygments_lexer": "ipython3",
   "version": "3.7.6"
  }
 },
 "nbformat": 4,
 "nbformat_minor": 4
}
