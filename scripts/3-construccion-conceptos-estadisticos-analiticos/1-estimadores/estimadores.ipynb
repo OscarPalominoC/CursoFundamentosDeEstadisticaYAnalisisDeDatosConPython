{
 "cells": [
  {
   "cell_type": "code",
   "execution_count": 1,
   "metadata": {},
   "outputs": [],
   "source": [
    "import sklearn\n",
    "import numpy as np\n",
    "import pandas as pd\n",
    "import matplotlib.pyplot as plt\n",
    "from sklearn.datasets import load_iris\n",
    "from scipy import stats\n",
    "import seaborn as sns\n",
    "\n",
    "%matplotlib inline"
   ]
  },
  {
   "cell_type": "code",
   "execution_count": 2,
   "metadata": {},
   "outputs": [
    {
     "data": {
      "text/plain": [
       "0.00013383022576488537"
      ]
     },
     "execution_count": 2,
     "metadata": {},
     "output_type": "execute_result"
    }
   ],
   "source": [
    "from scipy.stats import norm\n",
    "\n",
    "x1 = 3\n",
    "mu1 = 4\n",
    "mu2 = 7\n",
    "sigma = 1\n",
    "# pdf = Probability Density Function\n",
    "p_muestra = norm.pdf(x1, mu2, sigma)\n",
    "\n",
    "p_muestra"
   ]
  },
  {
   "cell_type": "code",
   "execution_count": 3,
   "metadata": {},
   "outputs": [
    {
     "data": {
      "text/plain": [
       "1.4701857752651781e-09"
      ]
     },
     "execution_count": 3,
     "metadata": {},
     "output_type": "execute_result"
    }
   ],
   "source": [
    "from scipy.stats import norm\n",
    "\n",
    "x1 = 3\n",
    "x2 = 10\n",
    "\n",
    "mu1 = 4\n",
    "mu2 = 7\n",
    "sigma = 1\n",
    "# pdf = Probability Density Function\n",
    "p_muestra = norm.pdf(x1, mu1, sigma) * norm.pdf(x2, mu1, sigma)\n",
    "\n",
    "p_muestra"
   ]
  },
  {
   "cell_type": "code",
   "execution_count": 4,
   "metadata": {},
   "outputs": [
    {
     "data": {
      "text/plain": [
       "array([5.03999132, 4.35107672, 3.49101093, 4.78435101, 5.94485393,\n",
       "       3.96230754, 6.20634036, 4.21125146, 4.05992582, 4.78345137])"
      ]
     },
     "execution_count": 4,
     "metadata": {},
     "output_type": "execute_result"
    }
   ],
   "source": [
    "muestra_10 = norm.rvs(5, sigma, size= 10)\n",
    "muestra_10"
   ]
  },
  {
   "cell_type": "code",
   "execution_count": 5,
   "metadata": {},
   "outputs": [],
   "source": [
    "data1 = norm.rvs(mu1, sigma, size= 100000)\n",
    "data2 = norm.rvs(mu2, sigma, size= 100000)"
   ]
  },
  {
   "cell_type": "code",
   "execution_count": 6,
   "metadata": {
    "scrolled": true
   },
   "outputs": [
    {
     "data": {
      "text/plain": [
       "[Text(0, 0.5, 'Frecuencia'), Text(0.5, 0, 'Distribución normal mu1')]"
      ]
     },
     "execution_count": 6,
     "metadata": {},
     "output_type": "execute_result"
    },
    {
     "data": {
      "image/png": "[encoded data removed]",
      "text/plain": [
       "<Figure size 432x288 with 1 Axes>"
      ]
     },
     "metadata": {
      "needs_background": "light"
     },
     "output_type": "display_data"
    }
   ],
   "source": [
    "ax = sns.distplot(data1, bins = 50, color = 'blue', kde = False)\n",
    "ax.set(xlabel = 'Distribución normal mu1', ylabel = 'Frecuencia')\n",
    "\n",
    "ax = sns.distplot(data2, bins = 50, color = 'red', kde = False)\n",
    "ax.set(xlabel = 'Distribución normal mu1', ylabel = 'Frecuencia')"
   ]
  },
  {
   "cell_type": "code",
   "execution_count": 7,
   "metadata": {},
   "outputs": [],
   "source": [
    "muestra_10\n",
    "y = list([])\n",
    "\n",
    "for i in range(10):\n",
    "    y.append(3000)"
   ]
  },
  {
   "cell_type": "code",
   "execution_count": 8,
   "metadata": {
    "scrolled": true
   },
   "outputs": [
    {
     "data": {
      "text/plain": [
       "<matplotlib.collections.PathCollection at 0x7f268576ad90>"
      ]
     },
     "execution_count": 8,
     "metadata": {},
     "output_type": "execute_result"
    },
    {
     "data": {
      "image/png": "[encoded data removed]",
      "text/plain": [
       "<Figure size 432x288 with 1 Axes>"
      ]
     },
     "metadata": {
      "needs_background": "light"
     },
     "output_type": "display_data"
    }
   ],
   "source": [
    "ax = sns.distplot(data1, bins = 50, color = 'blue', kde = False)\n",
    "ax.set(xlabel = 'Distribución normal mu1', ylabel = 'Frecuencia')\n",
    "\n",
    "ax = sns.distplot(data2, bins = 50, color = 'red', kde = False)\n",
    "ax.set(xlabel = 'Distribución normal mu1', ylabel = 'Frecuencia')\n",
    "\n",
    "ax.scatter(muestra_10, y, c = 'k')"
   ]
  },
  {
   "cell_type": "markdown",
   "metadata": {},
   "source": [
    "Bajo una muestra podemos tener la probabilidad de ocurrencia basado en mu1 o mu2, con una diferencia grande.\n",
    "Podemos ver cómo la muestra puede pertenecer con mayor o menor probabilidad a alguna de las 2 hipotesis sobre el parámetro poblacional mu1."
   ]
  }
 ],
 "metadata": {
  "kernelspec": {
   "display_name": "Python 3",
   "language": "python",
   "name": "python3"
  },
  "language_info": {
   "codemirror_mode": {
    "name": "ipython",
    "version": 3
   },
   "file_extension": ".py",
   "mimetype": "text/x-python",
   "name": "python",
   "nbconvert_exporter": "python",
   "pygments_lexer": "ipython3",
   "version": "3.7.6"
  }
 },
 "nbformat": 4,
 "nbformat_minor": 4
}
